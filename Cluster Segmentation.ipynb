{
 "cells": [
  {
   "cell_type": "markdown",
   "metadata": {},
   "source": [
    "## Cluster Segmentation"
   ]
  },
  {
   "cell_type": "markdown",
   "metadata": {},
   "source": [
    "<a id='intro'></a>\n",
    "### I. Introduction"
   ]
  },
  {
   "cell_type": "markdown",
   "metadata": {},
   "source": [
    "Our charity is approaching the established budget limit for the fiscal year prematurely due to several expected donations failing to come through during the last quarter. This has lead to an unsustainable overhead and debt that is currently insurmountable. If something drastic is not done, and soon, our organization will face dissolution. Donor acquisition is both time consuming and costly. There are limited resources that must be allocated to find and contact potential donors. Given this situation, two methods will be utilized to find the best approach.\n",
    "\n",
    "The first method will be to use a Logistic Regression model with supervised learning. Our charity has an existing donor network, from which we can train a model to discern who is likely to donate in the future, even on unseen data points. Historically, donors to our charity have had a salary that is greater than $50,000/year. The model will be tested against a secondary, potential donor network dataset to gauge its effectiveness during our upcoming outreach.\n",
    "\n",
    "The second method will be through the lense of unsupervised learning: Principal Component Analysis decomposition in conjunction with a KMeans Clustering segmentation algorithm to find natural donor striation within the existing network. These learned clusters may then be used to parse the secondary, potential donor network dataset to find likely contributors to our charity.\n",
    "\n",
    "Lastly, these two methods may be ensembled together to find the intersection of those individuals which our first model predicts is likely to donate and those who are labeled as a part of our top contributing cluster by the second model."
   ]
  },
  {
   "cell_type": "markdown",
   "metadata": {},
   "source": [
    "### Table of Contents\n",
    "- [I. Introduction](#intro)\n",
    "- [II. Explore & Transform](#explore)\n",
    "- [III. Supervised Predictive Modeling](#supervised)\n",
    "- [IV. Unsupervised Clustering Segmentation](#unsupervised)\n",
    "- [V. Intersecting Prediction & Segmentation](#intersecting)\n",
    "- [VI. Final Thoughts](#final)\n",
    "- [VII. Sources](#sources)"
   ]
  },
  {
   "cell_type": "markdown",
   "metadata": {},
   "source": [
    "### Import"
   ]
  },
  {
   "cell_type": "code",
   "execution_count": 1,
   "metadata": {},
   "outputs": [],
   "source": [
    "# bring key libraries and functionality into the notebook\n",
    "import pandas as pd\n",
    "import numpy as np\n",
    "import matplotlib.pyplot as plt\n",
    "%matplotlib inline\n",
    "import seaborn as sb\n",
    "\n",
    "from sklearn.model_selection import train_test_split, GridSearchCV\n",
    "from sklearn.linear_model import LogisticRegression\n",
    "from sklearn.ensemble import AdaBoostClassifier\n",
    "from sklearn.metrics import accuracy_score, fbeta_score, confusion_matrix, ConfusionMatrixDisplay\n",
    "\n",
    "from sklearn.decomposition import PCA\n",
    "from sklearn.cluster import KMeans"
   ]
  },
  {
   "cell_type": "markdown",
   "metadata": {},
   "source": [
    "### Load"
   ]
  },
  {
   "cell_type": "markdown",
   "metadata": {},
   "source": [
    "First, we will load in the existing and potential donor network datasets. Several thousand duplicates were discovered in the existing donor network dataset during the initial exploration off-screen, and are discarded here. Specific columns have been chosen based on the commonality between the two datasets, with the others that are unique to each being left in the original csv files. Although both datasets contain additional columns, comparing them appropriately requires precise similarity. Columns that contain the same kind of data but use different naming conventions across the two datasets are adjusted and renamed accordingly. A sample of rows from both are shown to get an idea of what we are working with. It will be seen that the column values themselves vary dramatically, which will require additional cleaning for them to be pliable. "
   ]
  },
  {
   "cell_type": "code",
   "execution_count": 2,
   "metadata": {},
   "outputs": [
    {
     "data": {
      "text/html": [
       "<div>\n",
       "<style scoped>\n",
       "    .dataframe tbody tr th:only-of-type {\n",
       "        vertical-align: middle;\n",
       "    }\n",
       "\n",
       "    .dataframe tbody tr th {\n",
       "        vertical-align: top;\n",
       "    }\n",
       "\n",
       "    .dataframe thead th {\n",
       "        text-align: right;\n",
       "    }\n",
       "</style>\n",
       "<table border=\"1\" class=\"dataframe\">\n",
       "  <thead>\n",
       "    <tr style=\"text-align: right;\">\n",
       "      <th></th>\n",
       "      <th>age</th>\n",
       "      <th>education_level</th>\n",
       "      <th>marital_status</th>\n",
       "      <th>gender</th>\n",
       "      <th>income</th>\n",
       "    </tr>\n",
       "  </thead>\n",
       "  <tbody>\n",
       "    <tr>\n",
       "      <th>0</th>\n",
       "      <td>39</td>\n",
       "      <td>Bachelors</td>\n",
       "      <td>Never-married</td>\n",
       "      <td>Male</td>\n",
       "      <td>&lt;=50K</td>\n",
       "    </tr>\n",
       "    <tr>\n",
       "      <th>1</th>\n",
       "      <td>50</td>\n",
       "      <td>Bachelors</td>\n",
       "      <td>Married-civ-spouse</td>\n",
       "      <td>Male</td>\n",
       "      <td>&lt;=50K</td>\n",
       "    </tr>\n",
       "    <tr>\n",
       "      <th>2</th>\n",
       "      <td>38</td>\n",
       "      <td>HS-grad</td>\n",
       "      <td>Divorced</td>\n",
       "      <td>Male</td>\n",
       "      <td>&lt;=50K</td>\n",
       "    </tr>\n",
       "    <tr>\n",
       "      <th>3</th>\n",
       "      <td>53</td>\n",
       "      <td>11th</td>\n",
       "      <td>Married-civ-spouse</td>\n",
       "      <td>Male</td>\n",
       "      <td>&lt;=50K</td>\n",
       "    </tr>\n",
       "    <tr>\n",
       "      <th>4</th>\n",
       "      <td>28</td>\n",
       "      <td>Bachelors</td>\n",
       "      <td>Married-civ-spouse</td>\n",
       "      <td>Female</td>\n",
       "      <td>&lt;=50K</td>\n",
       "    </tr>\n",
       "  </tbody>\n",
       "</table>\n",
       "</div>"
      ],
      "text/plain": [
       "   age education_level       marital_status   gender income\n",
       "0   39       Bachelors        Never-married     Male  <=50K\n",
       "1   50       Bachelors   Married-civ-spouse     Male  <=50K\n",
       "2   38         HS-grad             Divorced     Male  <=50K\n",
       "3   53            11th   Married-civ-spouse     Male  <=50K\n",
       "4   28       Bachelors   Married-civ-spouse   Female  <=50K"
      ]
     },
     "execution_count": 2,
     "metadata": {},
     "output_type": "execute_result"
    }
   ],
   "source": [
    "# read in existing donor network data\n",
    "original_existing_donors = pd.read_csv('existing_donors_data.csv')\n",
    "\n",
    "# drop duplicate rows from dataset\n",
    "original_existing_donors.drop_duplicates(inplace=True)\n",
    "\n",
    "# only invoke with columns that are relavent to project\n",
    "df1 = original_existing_donors[['age', 'education_level', 'marital-status',\n",
    "                                'sex', 'income']].copy(deep=True)\n",
    "\n",
    "# adjust names for consistency across datasets\n",
    "df1.rename(columns={'marital-status' : 'marital_status',\n",
    "                    'sex': 'gender'}, inplace=True)\n",
    "# show a few rows\n",
    "df1.head()"
   ]
  },
  {
   "cell_type": "code",
   "execution_count": 3,
   "metadata": {},
   "outputs": [
    {
     "data": {
      "text/html": [
       "<div>\n",
       "<style scoped>\n",
       "    .dataframe tbody tr th:only-of-type {\n",
       "        vertical-align: middle;\n",
       "    }\n",
       "\n",
       "    .dataframe tbody tr th {\n",
       "        vertical-align: top;\n",
       "    }\n",
       "\n",
       "    .dataframe thead th {\n",
       "        text-align: right;\n",
       "    }\n",
       "</style>\n",
       "<table border=\"1\" class=\"dataframe\">\n",
       "  <thead>\n",
       "    <tr style=\"text-align: right;\">\n",
       "      <th></th>\n",
       "      <th>age</th>\n",
       "      <th>education_level</th>\n",
       "      <th>marital_status</th>\n",
       "      <th>gender</th>\n",
       "      <th>income</th>\n",
       "    </tr>\n",
       "  </thead>\n",
       "  <tbody>\n",
       "    <tr>\n",
       "      <th>0</th>\n",
       "      <td>23</td>\n",
       "      <td>Associate Degree</td>\n",
       "      <td>Married</td>\n",
       "      <td>Female</td>\n",
       "      <td>70541</td>\n",
       "    </tr>\n",
       "    <tr>\n",
       "      <th>1</th>\n",
       "      <td>26</td>\n",
       "      <td>Doctorate</td>\n",
       "      <td>Widowed</td>\n",
       "      <td>Male</td>\n",
       "      <td>54168</td>\n",
       "    </tr>\n",
       "    <tr>\n",
       "      <th>2</th>\n",
       "      <td>29</td>\n",
       "      <td>Associate Degree</td>\n",
       "      <td>Single</td>\n",
       "      <td>Female</td>\n",
       "      <td>73899</td>\n",
       "    </tr>\n",
       "    <tr>\n",
       "      <th>3</th>\n",
       "      <td>20</td>\n",
       "      <td>Bachelor's Degree</td>\n",
       "      <td>Divorced</td>\n",
       "      <td>Male</td>\n",
       "      <td>63381</td>\n",
       "    </tr>\n",
       "    <tr>\n",
       "      <th>4</th>\n",
       "      <td>25</td>\n",
       "      <td>Bachelor's Degree</td>\n",
       "      <td>Separated</td>\n",
       "      <td>Female</td>\n",
       "      <td>38794</td>\n",
       "    </tr>\n",
       "  </tbody>\n",
       "</table>\n",
       "</div>"
      ],
      "text/plain": [
       "   age    education_level marital_status  gender  income\n",
       "0   23   Associate Degree        Married  Female   70541\n",
       "1   26          Doctorate        Widowed    Male   54168\n",
       "2   29   Associate Degree         Single  Female   73899\n",
       "3   20  Bachelor's Degree       Divorced    Male   63381\n",
       "4   25  Bachelor's Degree      Separated  Female   38794"
      ]
     },
     "execution_count": 3,
     "metadata": {},
     "output_type": "execute_result"
    }
   ],
   "source": [
    "# read in potential donor network data\n",
    "original_potential_donors = pd.read_csv('potential_donors_data.csv')\n",
    "\n",
    "# only invoke with columns that are relavent to project\n",
    "df2 = original_potential_donors[['Age', 'Education Level', 'Marital Status',  \n",
    "                                 'Gender', 'Income Level']].copy(deep=True)\n",
    "\n",
    "# adjust names for consistency across datasets\n",
    "df2.rename(columns={'Age': 'age', \n",
    "                    'Education Level': 'education_level',\n",
    "                    'Marital Status' : 'marital_status', \n",
    "                    'Gender': 'gender',\n",
    "                    'Income Level': 'income'}, inplace=True)\n",
    "# show a few rows\n",
    "df2.head()"
   ]
  },
  {
   "cell_type": "markdown",
   "metadata": {},
   "source": [
    "<a id='explore'></a>\n",
    "## II. Explore & Transform"
   ]
  },
  {
   "cell_type": "markdown",
   "metadata": {},
   "source": [
    "Now that both of our datasets are appropriately loaded, it's going to be important to take a fine grain look at each feature and ensure that all of the column values match. This is critical for the modeling and comparison stages. For each of the four independent feature vector columns (age, education level, marital status, and gender) and our single dependent target variable (whether or not a person's salary is greater than $50,000/year), a function has been created. Each function varies slightly in the exact way it transmogrifies the data, depending on what needs to happen to each column. Ultimately, every column will become a binary variable through encoding to allow ease of use, interpretability, and weight balance in the algorithms later on."
   ]
  },
  {
   "cell_type": "code",
   "execution_count": 4,
   "metadata": {},
   "outputs": [
    {
     "name": "stdout",
     "output_type": "stream",
     "text": [
      "Size of existing donor network: 39240\n"
     ]
    }
   ],
   "source": [
    "# rows of existing donor network\n",
    "print(f'Size of existing donor network: {df1.shape[0]}')"
   ]
  },
  {
   "cell_type": "code",
   "execution_count": 5,
   "metadata": {},
   "outputs": [
    {
     "name": "stdout",
     "output_type": "stream",
     "text": [
      "Size of potential donor network: 53503\n"
     ]
    }
   ],
   "source": [
    "# rows of potential donor network\n",
    "print(f'Size of potential donor network: {df2.shape[0]}')"
   ]
  },
  {
   "cell_type": "markdown",
   "metadata": {},
   "source": [
    "### Age"
   ]
  },
  {
   "cell_type": "code",
   "execution_count": 6,
   "metadata": {},
   "outputs": [],
   "source": [
    "# the names will become columns after encoding\n",
    "labels = ['20s_or_lower', '30s', '40s', '50s', '60s_or_higher']\n",
    "\n",
    "def transform_plot_age(df, dataset_name):\n",
    "    ''' Change numerical age to age group bins, rename the column,\n",
    "        plot the value counts, set column to categorical, and one-hot encode\n",
    "    \n",
    "        Parameters: df (pd.DataFrame): dataset to transform\n",
    "                    dataset_name: reference for plotting\n",
    "        \n",
    "        Output:     bar plot of value counts\n",
    "        \n",
    "        Returns:    transformed dataframe\n",
    "        \n",
    "    '''\n",
    "    # create bins for age groups\n",
    "    conditions = [(df['age'] <= 29),\n",
    "                  ((df['age'] >= 30) & (df['age'] <= 39)),\n",
    "                  ((df['age'] >= 40) & (df['age'] <= 49)),\n",
    "                  ((df['age'] >= 50) & (df['age'] <= 59)),\n",
    "                  (df['age'] >= 60)]\n",
    "    \n",
    "    # convert numerical values to bins\n",
    "    df['age'] = np.select(conditions, labels)\n",
    "    \n",
    "    # change name to reflect demographic shift\n",
    "    df.rename(columns={'age': 'age_group'}, inplace=True)\n",
    "    \n",
    "    # counts per age group bin as barplot\n",
    "    df['age_group'].value_counts()[labels].plot(kind='bar', color='c')\n",
    "    \n",
    "    # add title, make x labels legible\n",
    "    plt.title(f'{dataset_name} Donor Network Age Group Counts')\n",
    "    plt.xticks(rotation=0)\n",
    "    plt.show();\n",
    "    \n",
    "    # change feature to a categorical column to establish desired order of bins\n",
    "    df['age_group'] = pd.Categorical(df['age_group'], categories=labels, ordered=True)\n",
    "    \n",
    "    # one hot encode ordered age group bins into individual columns\n",
    "    # 0 in all age group columns represents 20s_or_lower\n",
    "    df = pd.get_dummies(df, columns=['age_group'], drop_first=True)\n",
    "    return df"
   ]
  },
  {
   "cell_type": "code",
   "execution_count": 7,
   "metadata": {},
   "outputs": [
    {
     "data": {
      "image/png": "[encoded data removed]",
      "text/plain": [
       "<Figure size 432x288 with 1 Axes>"
      ]
     },
     "metadata": {
      "needs_background": "light"
     },
     "output_type": "display_data"
    }
   ],
   "source": [
    "df1 = transform_plot_age(df1, 'Existing')"
   ]
  },
  {
   "cell_type": "code",
   "execution_count": 8,
   "metadata": {},
   "outputs": [
    {
     "data": {
      "image/png": "[encoded data removed]",
      "text/plain": [
       "<Figure size 432x288 with 1 Axes>"
      ]
     },
     "metadata": {
      "needs_background": "light"
     },
     "output_type": "display_data"
    }
   ],
   "source": [
    "df2 = transform_plot_age(df2, 'Potential')"
   ]
  },
  {
   "cell_type": "markdown",
   "metadata": {},
   "source": [
    "In the existing donor network there is a smaller sample size for the older age groups. They are fairly balanced for the potential donor network."
   ]
  },
  {
   "cell_type": "markdown",
   "metadata": {},
   "source": [
    "### Education Level"
   ]
  },
  {
   "cell_type": "code",
   "execution_count": 9,
   "metadata": {},
   "outputs": [],
   "source": [
    "# the names will become columns after encoding\n",
    "sort_order = ['edu_hs_or_lower', 'edu_associate', 'edu_bachelor', \n",
    "              'edu_master', 'edu_doctorate']\n",
    "\n",
    "def transform_plot_education_level(df, dataset_name):\n",
    "    ''' Change educational levels to bins, rename the column,\n",
    "        plot the value counts, set column to categorical, and one-hot encode\n",
    "    \n",
    "        Parameters: df (pd.DataFrame): dataset to transform\n",
    "                    dataset_name: reference for plotting\n",
    "        \n",
    "        Output:     bar plot of value counts\n",
    "        \n",
    "        Returns:    transformed dataframe\n",
    "    '''\n",
    "    # existing donor network\n",
    "    if dataset_name == 'Existing':\n",
    "        # create bins for education level\n",
    "        df['education_level'] = df['education_level'].map({' Preschool': 'edu_hs_or_lower',\n",
    "                                                           ' 1st-4th': 'edu_hs_or_lower',\n",
    "                                                           ' 5th-6th': 'edu_hs_or_lower',\n",
    "                                                           ' 7th-8th': 'edu_hs_or_lower',\n",
    "                                                           ' 9th': 'edu_hs_or_lower',\n",
    "                                                           ' 10th': 'edu_hs_or_lower',\n",
    "                                                           ' 11th': 'edu_hs_or_lower',\n",
    "                                                           ' 12th': 'edu_hs_or_lower',\n",
    "                                                           ' HS-grad': 'edu_hs_or_lower',\n",
    "                                                           ' Some-college': 'edu_hs_or_lower',\n",
    "                                                           ' Assoc-acdm': 'edu_associate',\n",
    "                                                           ' Assoc-voc': 'edu_associate',\n",
    "                                                           ' Prof-school': 'edu_associate',\n",
    "                                                           ' Bachelors': 'edu_bachelor',\n",
    "                                                           ' Masters': 'edu_master',\n",
    "                                                           ' Doctorate': 'edu_doctorate'})\n",
    "    # potential donor network\n",
    "    elif dataset_name == 'Potential':\n",
    "        # create bins for education level\n",
    "        df['education_level'] = df['education_level'].map({'High School Diploma': 'edu_hs_or_lower',\n",
    "                                                           'Associate Degree': 'edu_associate',\n",
    "                                                           'Bachelor\\'s Degree': 'edu_bachelor',\n",
    "                                                           'Master\\'s Degree': 'edu_master',\n",
    "                                                           'Doctorate': 'edu_doctorate'})\n",
    "    # counts per education level bin as barplot\n",
    "    df['education_level'].value_counts()[sort_order].plot(kind='bar', color='c')\n",
    "    \n",
    "    # add title, make x labels legible\n",
    "    plt.title(f'{dataset_name} Donor Network Education Level')\n",
    "    plt.xticks(rotation=7)\n",
    "    plt.show();\n",
    "    \n",
    "    # change feature to a categorical column to establish desired order of bins\n",
    "    df['education_level'] = pd.Categorical(df['education_level'], categories=sort_order, ordered=True)\n",
    "    \n",
    "    # one hot encode ordered education level bins into individual columns\n",
    "    # 0 in all education level columns represents edu_hs_or_lower\n",
    "    df = pd.get_dummies(df, columns=['education_level'], drop_first=True)\n",
    "    \n",
    "    return df"
   ]
  },
  {
   "cell_type": "code",
   "execution_count": 10,
   "metadata": {},
   "outputs": [
    {
     "data": {
      "image/png": "[encoded data removed]",
      "text/plain": [
       "<Figure size 432x288 with 1 Axes>"
      ]
     },
     "metadata": {
      "needs_background": "light"
     },
     "output_type": "display_data"
    }
   ],
   "source": [
    "df1 = transform_plot_education_level(df1, 'Existing')"
   ]
  },
  {
   "cell_type": "code",
   "execution_count": 11,
   "metadata": {},
   "outputs": [
    {
     "data": {
      "image/png": "[encoded data removed]",
      "text/plain": [
       "<Figure size 432x288 with 1 Axes>"
      ]
     },
     "metadata": {
      "needs_background": "light"
     },
     "output_type": "display_data"
    }
   ],
   "source": [
    "df2 = transform_plot_education_level(df2, 'Potential')"
   ]
  },
  {
   "cell_type": "markdown",
   "metadata": {},
   "source": [
    "The vast majority of our existing donor network dataset is composed of those who have at most a high school education. This creates a situation where the algorithms will have a skewed perception on this column because there are only so many examples to learn patterns from. On the other hand, there is again a nice balance across the potential donor network dataset.  "
   ]
  },
  {
   "cell_type": "markdown",
   "metadata": {},
   "source": [
    "### Marital Status"
   ]
  },
  {
   "cell_type": "code",
   "execution_count": 12,
   "metadata": {},
   "outputs": [],
   "source": [
    "# the names will become columns after encoding\n",
    "sort_order = ['single', 'married', 'separated', 'divorced', 'widowed']\n",
    "\n",
    "def transform_plot_marital_status(df, dataset_name):\n",
    "    ''' Change marital status to bins, rename the column,\n",
    "        plot the value counts, set column to categorical, and one-hot encode\n",
    "    \n",
    "        Parameters: df (pd.DataFrame): dataset to transform\n",
    "                    dataset_name: reference for plotting\n",
    "        \n",
    "        Output:     bar plot of value counts\n",
    "        \n",
    "        Returns:    transformed dataframe\n",
    "    '''\n",
    "    # existing donor network\n",
    "    if dataset_name == 'Existing':\n",
    "        # create bins for marital status\n",
    "        df['marital_status'] = df['marital_status'].map({' Never-married': 'single',\n",
    "                                                         ' Married': 'married',\n",
    "                                                         ' Married-civ-spouse': 'married',\n",
    "                                                         ' Married-spouse-absent': 'married',\n",
    "                                                         ' Married-AF-spouse': 'married',\n",
    "                                                         ' Separated': 'separated',\n",
    "                                                         ' Divorced': 'divorced',\n",
    "                                                         ' Widowed': 'widowed'})\n",
    "    # potential donor network\n",
    "    elif dataset_name == 'Potential':\n",
    "        # create bins for marital status\n",
    "        df['marital_status'] = df['marital_status'].map({'Single': 'single',\n",
    "                                                         'Married': 'married',\n",
    "                                                         'Separated': 'separated',\n",
    "                                                         'Divorced': 'divorced',\n",
    "                                                         'Widowed': 'widowed'})\n",
    "    # counts per marital status bin as barplot\n",
    "    df['marital_status'].value_counts()[sort_order].plot(kind='bar', color='c')\n",
    "    \n",
    "    # add title, make x labels legible\n",
    "    plt.title(f'{dataset_name} Donor Network Marital Status')\n",
    "    plt.xticks(rotation=0)\n",
    "    plt.show();\n",
    "    \n",
    "    # change feature to a categorical column to establish desired order of bins\n",
    "    df['marital_status'] = pd.Categorical(df['marital_status'], categories=sort_order, ordered=True)\n",
    "    \n",
    "    # one hot encode ordered marital status bins into individual columns\n",
    "    # 0 in all marital status columns represents single\n",
    "    df = pd.get_dummies(df, columns=['marital_status'], drop_first=True)\n",
    "    \n",
    "    return df"
   ]
  },
  {
   "cell_type": "code",
   "execution_count": 13,
   "metadata": {},
   "outputs": [
    {
     "data": {
      "image/png": "[encoded data removed]",
      "text/plain": [
       "<Figure size 432x288 with 1 Axes>"
      ]
     },
     "metadata": {
      "needs_background": "light"
     },
     "output_type": "display_data"
    }
   ],
   "source": [
    "df1 = transform_plot_marital_status(df1, 'Existing')"
   ]
  },
  {
   "cell_type": "code",
   "execution_count": 14,
   "metadata": {},
   "outputs": [
    {
     "data": {
      "image/png": "[encoded data removed]",
      "text/plain": [
       "<Figure size 432x288 with 1 Axes>"
      ]
     },
     "metadata": {
      "needs_background": "light"
     },
     "output_type": "display_data"
    }
   ],
   "source": [
    "df2 = transform_plot_marital_status(df2, 'Potential')"
   ]
  },
  {
   "cell_type": "markdown",
   "metadata": {},
   "source": [
    "We're beginning to see a trend here, as the existing donor network is made up primarily of those who are single and married. The potential donor network has numerous options for each variable."
   ]
  },
  {
   "cell_type": "markdown",
   "metadata": {},
   "source": [
    "### Gender"
   ]
  },
  {
   "cell_type": "code",
   "execution_count": 15,
   "metadata": {},
   "outputs": [],
   "source": [
    "def transform_plot_gender(df, dataset_name):\n",
    "    ''' Plot the value counts, change gender to binary encoding, \n",
    "        and rename the column\n",
    "       \n",
    "        Parameters: df (pd.DataFrame): dataset to transform\n",
    "                    dataset_name: reference for plotting\n",
    "        \n",
    "        Output:     bar plot of value counts\n",
    "        \n",
    "        Returns:    transformed dataframe\n",
    "    '''\n",
    "    # counts per gender as barplot \n",
    "    df['gender'].value_counts().plot(kind='bar', color='c')\n",
    "\n",
    "    # add title, make x labels legible\n",
    "    plt.title(f'{dataset_name} Donor Network Gender')\n",
    "    plt.xticks(rotation=0)\n",
    "    plt.show();   \n",
    "    \n",
    "    # existing donor network\n",
    "    if dataset_name == 'Existing':\n",
    "        # create binary encoding for gender\n",
    "        df['gender'] = df['gender'].map({' Female': 0, ' Male': 1})\n",
    "        \n",
    "    # potential donor network\n",
    "    elif dataset_name == 'Potential':\n",
    "        # create binary encoding for gender\n",
    "        df['gender'] = df['gender'].map({'Female': 0, 'Male': 1})\n",
    "    \n",
    "    # change name to reflect shift\n",
    "    # 0 in gender_male column represents female\n",
    "    df.rename(columns={'gender': 'gender_male'}, inplace=True)\n",
    "    \n",
    "    return df"
   ]
  },
  {
   "cell_type": "code",
   "execution_count": 16,
   "metadata": {},
   "outputs": [
    {
     "data": {
      "image/png": "[encoded data removed]",
      "text/plain": [
       "<Figure size 432x288 with 1 Axes>"
      ]
     },
     "metadata": {
      "needs_background": "light"
     },
     "output_type": "display_data"
    }
   ],
   "source": [
    "df1 = transform_plot_gender(df1, 'Existing')"
   ]
  },
  {
   "cell_type": "code",
   "execution_count": 17,
   "metadata": {},
   "outputs": [
    {
     "data": {
      "image/png": "[encoded data removed]",
      "text/plain": [
       "<Figure size 432x288 with 1 Axes>"
      ]
     },
     "metadata": {
      "needs_background": "light"
     },
     "output_type": "display_data"
    }
   ],
   "source": [
    "df2 = transform_plot_gender(df2, 'Potential')"
   ]
  },
  {
   "cell_type": "markdown",
   "metadata": {},
   "source": [
    "It can be confirmed that each feature is skewed for the existing donor network. Perhaps this happened organically through word of mouth. Our previous donor acquisition approach has been primarily focused on a certain demographic grouping that stands out. Younger, at most a high school education, single or married, and male seems to be example the model will learn the most about. The danger in this situation is that it may create an artifact in the modeling where the equations are able to distinguish this kind of person extremely well, without being able to appropriately delineate amongst other kinds of people. Between this skewing inherent in the dataset in terms of representation and the fact that the demographic overlap between the two datasets is only four columns, there is a limit to the nuance even the most advanced model can pick out without simply memorizing the data."
   ]
  },
  {
   "cell_type": "markdown",
   "metadata": {},
   "source": [
    "### Salary > 50k"
   ]
  },
  {
   "cell_type": "code",
   "execution_count": 18,
   "metadata": {},
   "outputs": [],
   "source": [
    "def transform_plot_income(df, dataset_name):\n",
    "    ''' Change income to binary encoding, rename the column,\n",
    "        and plot the value counts\n",
    "       \n",
    "        Parameters: df (pd.DataFrame): dataset to transform\n",
    "                    dataset_name: reference for plotting\n",
    "        \n",
    "        Output:     bar plot of value counts\n",
    "        \n",
    "        Returns:    transformed dataframe\n",
    "    '''\n",
    "    # change name to reflect shift\n",
    "    # 0 in salary_gt_50k column represents those who \n",
    "    # make less than or equal to $50,000/year\n",
    "    df.rename(columns={'income': 'salary_gt_50k'}, inplace=True) \n",
    "\n",
    "    # existing donor network\n",
    "    if dataset_name == 'Existing':\n",
    "        # create binary encoding for income\n",
    "        df['salary_gt_50k'] = df['salary_gt_50k'].map({'<=50K': 0, '>50K': 1})\n",
    "        \n",
    "        # counts per salary as barplot    \n",
    "        df['salary_gt_50k'].value_counts().plot(kind='bar', color='c')\n",
    "        \n",
    "    # potential donor network\n",
    "    elif dataset_name == 'Potential':\n",
    "        # create binary encoding for income\n",
    "        df['salary_gt_50k'] = (df['salary_gt_50k'] > 50000).astype(int)\n",
    " \n",
    "        # sorted counts per salary as barplot\n",
    "        df['salary_gt_50k'].value_counts(ascending=True).plot(kind='bar', color='c')\n",
    "\n",
    "    # add title, make x labels legible    \n",
    "    plt.title(f'{dataset_name} Donor Network Salary Greater Than 50k')\n",
    "    plt.xticks(rotation=0)\n",
    "    plt.show();\n",
    "    \n",
    "    return df"
   ]
  },
  {
   "cell_type": "code",
   "execution_count": 19,
   "metadata": {
    "scrolled": true
   },
   "outputs": [
    {
     "data": {
      "image/png": "[encoded data removed]",
      "text/plain": [
       "<Figure size 432x288 with 1 Axes>"
      ]
     },
     "metadata": {
      "needs_background": "light"
     },
     "output_type": "display_data"
    }
   ],
   "source": [
    "df1 = transform_plot_income(df1, 'Existing')"
   ]
  },
  {
   "cell_type": "code",
   "execution_count": 20,
   "metadata": {},
   "outputs": [
    {
     "data": {
      "image/png": "[encoded data removed]",
      "text/plain": [
       "<Figure size 432x288 with 1 Axes>"
      ]
     },
     "metadata": {
      "needs_background": "light"
     },
     "output_type": "display_data"
    }
   ],
   "source": [
    "df2 = transform_plot_income(df2, 'Potential')"
   ]
  },
  {
   "cell_type": "markdown",
   "metadata": {},
   "source": [
    "Due to the inverse balance between these two datasets (where, in the existing donor network dataset we primarily have those who make $50,000/year or less and in the potential donor network dataset we have the opposite), a level of error can be expected in our later modeling efforts. But, thankfully, we have more opportunity than we do scarcity in the potential donor network. "
   ]
  },
  {
   "cell_type": "markdown",
   "metadata": {},
   "source": [
    "### View Encoding"
   ]
  },
  {
   "cell_type": "markdown",
   "metadata": {},
   "source": [
    "We can now observe the refined datasets, where each feature and the target may be represented as a binary column through encoding. There was, of course, several off-screen verifications of the data transformation pipeline to ensure that everything happened according to the code as intended. These cell blocks were removed for brevity."
   ]
  },
  {
   "cell_type": "code",
   "execution_count": 21,
   "metadata": {},
   "outputs": [
    {
     "data": {
      "text/html": [
       "<div>\n",
       "<style scoped>\n",
       "    .dataframe tbody tr th:only-of-type {\n",
       "        vertical-align: middle;\n",
       "    }\n",
       "\n",
       "    .dataframe tbody tr th {\n",
       "        vertical-align: top;\n",
       "    }\n",
       "\n",
       "    .dataframe thead th {\n",
       "        text-align: right;\n",
       "    }\n",
       "</style>\n",
       "<table border=\"1\" class=\"dataframe\">\n",
       "  <thead>\n",
       "    <tr style=\"text-align: right;\">\n",
       "      <th></th>\n",
       "      <th>gender_male</th>\n",
       "      <th>salary_gt_50k</th>\n",
       "      <th>age_group_30s</th>\n",
       "      <th>age_group_40s</th>\n",
       "      <th>age_group_50s</th>\n",
       "      <th>age_group_60s_or_higher</th>\n",
       "      <th>education_level_edu_associate</th>\n",
       "      <th>education_level_edu_bachelor</th>\n",
       "      <th>education_level_edu_master</th>\n",
       "      <th>education_level_edu_doctorate</th>\n",
       "      <th>marital_status_married</th>\n",
       "      <th>marital_status_separated</th>\n",
       "      <th>marital_status_divorced</th>\n",
       "      <th>marital_status_widowed</th>\n",
       "    </tr>\n",
       "  </thead>\n",
       "  <tbody>\n",
       "    <tr>\n",
       "      <th>0</th>\n",
       "      <td>1</td>\n",
       "      <td>0</td>\n",
       "      <td>1</td>\n",
       "      <td>0</td>\n",
       "      <td>0</td>\n",
       "      <td>0</td>\n",
       "      <td>0</td>\n",
       "      <td>1</td>\n",
       "      <td>0</td>\n",
       "      <td>0</td>\n",
       "      <td>0</td>\n",
       "      <td>0</td>\n",
       "      <td>0</td>\n",
       "      <td>0</td>\n",
       "    </tr>\n",
       "    <tr>\n",
       "      <th>1</th>\n",
       "      <td>1</td>\n",
       "      <td>0</td>\n",
       "      <td>0</td>\n",
       "      <td>0</td>\n",
       "      <td>1</td>\n",
       "      <td>0</td>\n",
       "      <td>0</td>\n",
       "      <td>1</td>\n",
       "      <td>0</td>\n",
       "      <td>0</td>\n",
       "      <td>1</td>\n",
       "      <td>0</td>\n",
       "      <td>0</td>\n",
       "      <td>0</td>\n",
       "    </tr>\n",
       "    <tr>\n",
       "      <th>2</th>\n",
       "      <td>1</td>\n",
       "      <td>0</td>\n",
       "      <td>1</td>\n",
       "      <td>0</td>\n",
       "      <td>0</td>\n",
       "      <td>0</td>\n",
       "      <td>0</td>\n",
       "      <td>0</td>\n",
       "      <td>0</td>\n",
       "      <td>0</td>\n",
       "      <td>0</td>\n",
       "      <td>0</td>\n",
       "      <td>1</td>\n",
       "      <td>0</td>\n",
       "    </tr>\n",
       "    <tr>\n",
       "      <th>3</th>\n",
       "      <td>1</td>\n",
       "      <td>0</td>\n",
       "      <td>0</td>\n",
       "      <td>0</td>\n",
       "      <td>1</td>\n",
       "      <td>0</td>\n",
       "      <td>0</td>\n",
       "      <td>0</td>\n",
       "      <td>0</td>\n",
       "      <td>0</td>\n",
       "      <td>1</td>\n",
       "      <td>0</td>\n",
       "      <td>0</td>\n",
       "      <td>0</td>\n",
       "    </tr>\n",
       "    <tr>\n",
       "      <th>4</th>\n",
       "      <td>0</td>\n",
       "      <td>0</td>\n",
       "      <td>0</td>\n",
       "      <td>0</td>\n",
       "      <td>0</td>\n",
       "      <td>0</td>\n",
       "      <td>0</td>\n",
       "      <td>1</td>\n",
       "      <td>0</td>\n",
       "      <td>0</td>\n",
       "      <td>1</td>\n",
       "      <td>0</td>\n",
       "      <td>0</td>\n",
       "      <td>0</td>\n",
       "    </tr>\n",
       "  </tbody>\n",
       "</table>\n",
       "</div>"
      ],
      "text/plain": [
       "   gender_male  salary_gt_50k  age_group_30s  age_group_40s  age_group_50s  \\\n",
       "0            1              0              1              0              0   \n",
       "1            1              0              0              0              1   \n",
       "2            1              0              1              0              0   \n",
       "3            1              0              0              0              1   \n",
       "4            0              0              0              0              0   \n",
       "\n",
       "   age_group_60s_or_higher  education_level_edu_associate  \\\n",
       "0                        0                              0   \n",
       "1                        0                              0   \n",
       "2                        0                              0   \n",
       "3                        0                              0   \n",
       "4                        0                              0   \n",
       "\n",
       "   education_level_edu_bachelor  education_level_edu_master  \\\n",
       "0                             1                           0   \n",
       "1                             1                           0   \n",
       "2                             0                           0   \n",
       "3                             0                           0   \n",
       "4                             1                           0   \n",
       "\n",
       "   education_level_edu_doctorate  marital_status_married  \\\n",
       "0                              0                       0   \n",
       "1                              0                       1   \n",
       "2                              0                       0   \n",
       "3                              0                       1   \n",
       "4                              0                       1   \n",
       "\n",
       "   marital_status_separated  marital_status_divorced  marital_status_widowed  \n",
       "0                         0                        0                       0  \n",
       "1                         0                        0                       0  \n",
       "2                         0                        1                       0  \n",
       "3                         0                        0                       0  \n",
       "4                         0                        0                       0  "
      ]
     },
     "execution_count": 21,
     "metadata": {},
     "output_type": "execute_result"
    }
   ],
   "source": [
    "df1.head()"
   ]
  },
  {
   "cell_type": "code",
   "execution_count": 22,
   "metadata": {},
   "outputs": [
    {
     "data": {
      "text/html": [
       "<div>\n",
       "<style scoped>\n",
       "    .dataframe tbody tr th:only-of-type {\n",
       "        vertical-align: middle;\n",
       "    }\n",
       "\n",
       "    .dataframe tbody tr th {\n",
       "        vertical-align: top;\n",
       "    }\n",
       "\n",
       "    .dataframe thead th {\n",
       "        text-align: right;\n",
       "    }\n",
       "</style>\n",
       "<table border=\"1\" class=\"dataframe\">\n",
       "  <thead>\n",
       "    <tr style=\"text-align: right;\">\n",
       "      <th></th>\n",
       "      <th>gender_male</th>\n",
       "      <th>salary_gt_50k</th>\n",
       "      <th>age_group_30s</th>\n",
       "      <th>age_group_40s</th>\n",
       "      <th>age_group_50s</th>\n",
       "      <th>age_group_60s_or_higher</th>\n",
       "      <th>education_level_edu_associate</th>\n",
       "      <th>education_level_edu_bachelor</th>\n",
       "      <th>education_level_edu_master</th>\n",
       "      <th>education_level_edu_doctorate</th>\n",
       "      <th>marital_status_married</th>\n",
       "      <th>marital_status_separated</th>\n",
       "      <th>marital_status_divorced</th>\n",
       "      <th>marital_status_widowed</th>\n",
       "    </tr>\n",
       "  </thead>\n",
       "  <tbody>\n",
       "    <tr>\n",
       "      <th>0</th>\n",
       "      <td>0</td>\n",
       "      <td>1</td>\n",
       "      <td>0</td>\n",
       "      <td>0</td>\n",
       "      <td>0</td>\n",
       "      <td>0</td>\n",
       "      <td>1</td>\n",
       "      <td>0</td>\n",
       "      <td>0</td>\n",
       "      <td>0</td>\n",
       "      <td>1</td>\n",
       "      <td>0</td>\n",
       "      <td>0</td>\n",
       "      <td>0</td>\n",
       "    </tr>\n",
       "    <tr>\n",
       "      <th>1</th>\n",
       "      <td>1</td>\n",
       "      <td>1</td>\n",
       "      <td>0</td>\n",
       "      <td>0</td>\n",
       "      <td>0</td>\n",
       "      <td>0</td>\n",
       "      <td>0</td>\n",
       "      <td>0</td>\n",
       "      <td>0</td>\n",
       "      <td>1</td>\n",
       "      <td>0</td>\n",
       "      <td>0</td>\n",
       "      <td>0</td>\n",
       "      <td>1</td>\n",
       "    </tr>\n",
       "    <tr>\n",
       "      <th>2</th>\n",
       "      <td>0</td>\n",
       "      <td>1</td>\n",
       "      <td>0</td>\n",
       "      <td>0</td>\n",
       "      <td>0</td>\n",
       "      <td>0</td>\n",
       "      <td>1</td>\n",
       "      <td>0</td>\n",
       "      <td>0</td>\n",
       "      <td>0</td>\n",
       "      <td>0</td>\n",
       "      <td>0</td>\n",
       "      <td>0</td>\n",
       "      <td>0</td>\n",
       "    </tr>\n",
       "    <tr>\n",
       "      <th>3</th>\n",
       "      <td>1</td>\n",
       "      <td>1</td>\n",
       "      <td>0</td>\n",
       "      <td>0</td>\n",
       "      <td>0</td>\n",
       "      <td>0</td>\n",
       "      <td>0</td>\n",
       "      <td>1</td>\n",
       "      <td>0</td>\n",
       "      <td>0</td>\n",
       "      <td>0</td>\n",
       "      <td>0</td>\n",
       "      <td>1</td>\n",
       "      <td>0</td>\n",
       "    </tr>\n",
       "    <tr>\n",
       "      <th>4</th>\n",
       "      <td>0</td>\n",
       "      <td>0</td>\n",
       "      <td>0</td>\n",
       "      <td>0</td>\n",
       "      <td>0</td>\n",
       "      <td>0</td>\n",
       "      <td>0</td>\n",
       "      <td>1</td>\n",
       "      <td>0</td>\n",
       "      <td>0</td>\n",
       "      <td>0</td>\n",
       "      <td>1</td>\n",
       "      <td>0</td>\n",
       "      <td>0</td>\n",
       "    </tr>\n",
       "  </tbody>\n",
       "</table>\n",
       "</div>"
      ],
      "text/plain": [
       "   gender_male  salary_gt_50k  age_group_30s  age_group_40s  age_group_50s  \\\n",
       "0            0              1              0              0              0   \n",
       "1            1              1              0              0              0   \n",
       "2            0              1              0              0              0   \n",
       "3            1              1              0              0              0   \n",
       "4            0              0              0              0              0   \n",
       "\n",
       "   age_group_60s_or_higher  education_level_edu_associate  \\\n",
       "0                        0                              1   \n",
       "1                        0                              0   \n",
       "2                        0                              1   \n",
       "3                        0                              0   \n",
       "4                        0                              0   \n",
       "\n",
       "   education_level_edu_bachelor  education_level_edu_master  \\\n",
       "0                             0                           0   \n",
       "1                             0                           0   \n",
       "2                             0                           0   \n",
       "3                             1                           0   \n",
       "4                             1                           0   \n",
       "\n",
       "   education_level_edu_doctorate  marital_status_married  \\\n",
       "0                              0                       1   \n",
       "1                              1                       0   \n",
       "2                              0                       0   \n",
       "3                              0                       0   \n",
       "4                              0                       0   \n",
       "\n",
       "   marital_status_separated  marital_status_divorced  marital_status_widowed  \n",
       "0                         0                        0                       0  \n",
       "1                         0                        0                       1  \n",
       "2                         0                        0                       0  \n",
       "3                         0                        1                       0  \n",
       "4                         1                        0                       0  "
      ]
     },
     "execution_count": 22,
     "metadata": {},
     "output_type": "execute_result"
    }
   ],
   "source": [
    "df2.head()"
   ]
  },
  {
   "cell_type": "markdown",
   "metadata": {},
   "source": [
    "<a id='supervised'></a>\n",
    "## III. Supervised Predictive Modeling"
   ]
  },
  {
   "cell_type": "markdown",
   "metadata": {},
   "source": [
    "Now that both datasets are ready for analysis, we will begin by separating the feature columns into `X` and the target variable into `y`. The existing donor network will be split 80/20, to create a validation set to assess the Logistic Regression model before it is tested \"in the wild\". "
   ]
  },
  {
   "cell_type": "markdown",
   "metadata": {},
   "source": [
    "### Training & Validation"
   ]
  },
  {
   "cell_type": "code",
   "execution_count": 23,
   "metadata": {},
   "outputs": [],
   "source": [
    "# keep all existing donor network columns for \n",
    "# training and validation except target\n",
    "X = df1[['gender_male', 'age_group_30s', 'age_group_40s', \n",
    "         'age_group_50s', 'age_group_60s_or_higher',\n",
    "         'education_level_edu_associate', 'education_level_edu_bachelor',\n",
    "         'education_level_edu_master', 'education_level_edu_doctorate',\n",
    "         'marital_status_married', 'marital_status_separated',\n",
    "         'marital_status_divorced', 'marital_status_widowed']]\n",
    "\n",
    "# separate dependent target variable\n",
    "y = df1['salary_gt_50k']"
   ]
  },
  {
   "cell_type": "code",
   "execution_count": 24,
   "metadata": {},
   "outputs": [
    {
     "name": "stdout",
     "output_type": "stream",
     "text": [
      "Training set has 31392 samples.\n",
      "Validation set has 7848 samples.\n"
     ]
    }
   ],
   "source": [
    "# keep 80% of the existing donor network for training, \n",
    "# 20% will be separated validation\n",
    "X_train, X_valid, y_train, y_valid = train_test_split(X, y, test_size=0.2, random_state=0)\n",
    "\n",
    "print(\"Training set has {} samples.\".format(X_train.shape[0]))\n",
    "print(\"Validation set has {} samples.\".format(X_valid.shape[0]))"
   ]
  },
  {
   "cell_type": "markdown",
   "metadata": {},
   "source": [
    "Here, the model is instantiated, fit on the training data, and checked against the validation set."
   ]
  },
  {
   "cell_type": "code",
   "execution_count": 25,
   "metadata": {},
   "outputs": [],
   "source": [
    "# instantiate the model given an equal weight to both classes\n",
    "# default penalty, C, and solver were found to be optimal during tuning\n",
    "lr_model = LogisticRegression(penalty='l2', C=1.0, class_weight='balanced', \n",
    "                              random_state=0, solver='lbfgs')\n",
    "\n",
    "# fit the model to the training data\n",
    "lr_model.fit(X_train, y_train)\n",
    "\n",
    "# make predictions using the fit model on the validation data\n",
    "validation_results = lr_model.predict(X_valid)"
   ]
  },
  {
   "cell_type": "code",
   "execution_count": 26,
   "metadata": {},
   "outputs": [
    {
     "name": "stdout",
     "output_type": "stream",
     "text": [
      "Validation Accuracy: 72.52%\n",
      "Validation Fbeta (0.5): 51.63%\n"
     ]
    }
   ],
   "source": [
    "# how many were correctly labeled\n",
    "print(f'Validation Accuracy: {accuracy_score(y_valid, validation_results)*100:.2f}%')\n",
    "\n",
    "# fbeta balances the harmonic mean of precision and recall\n",
    "# a beta < 1 weighs precision more heavily; getting\n",
    "# true positives as correct as possible for potential donors\n",
    "print(f'Validation Fbeta (0.5): {fbeta_score(y_valid, validation_results, beta=0.5)*100:.2f}%')"
   ]
  },
  {
   "cell_type": "markdown",
   "metadata": {},
   "source": [
    "Given the circumstance of the skewed demographics previously enumerated, this a solid result after digging into tuning the model. Many of the default parameters stood true during the optimization process. The key here is that the fbeta score is tilted toward precision, meaning that we really want to focus on getting the people that we think will donate correct. There are more advanced algorithms that could be applied at this step, but I was concerned that 1) they may simply memorize the small feature list of the dataset and 2) the explainability and interpretability of the model would fall away. The staying power of regression is its sheer transparency. "
   ]
  },
  {
   "cell_type": "code",
   "execution_count": 27,
   "metadata": {},
   "outputs": [
    {
     "data": {
      "image/png": "[encoded data removed]",
      "text/plain": [
       "<Figure size 432x288 with 2 Axes>"
      ]
     },
     "metadata": {
      "needs_background": "light"
     },
     "output_type": "display_data"
    }
   ],
   "source": [
    "# true negative, false positive\n",
    "# false negative, true positive\n",
    "valid_cm = confusion_matrix(y_valid, validation_results)\n",
    "ConfusionMatrixDisplay(valid_cm).plot();"
   ]
  },
  {
   "cell_type": "markdown",
   "metadata": {},
   "source": [
    "A confusion matrix is a wonderful tool. It is worth digging into a little bit. In the top left, we see that 4,062 data points in the validation set were predicted to be non-donors, and were in fact non-donors. This is our true negative rate.\n",
    "\n",
    "Conversely, on the bottom right, we have those people who were predicted to be donors and are. The number totalled 1,629 for this true positive, and this is the focus for our precision that was previously mentioned.\n",
    "\n",
    "The tricky parts are the other components. In the bottom left, we have the people who were predicted to not be donors, but were in fact according to our existing donor network dataset. What this means is that we missed 332 people here to the false negative.\n",
    "\n",
    "Finally, at the top right, we have 1,825 people that we predicted to be donors, but were not. This is a false positive, and is the risk we run with the limitations of the data. The training set was small (~30,000 rows), it was skewed towards a certain demographic, and there a limited number of features. Given these constraints, this result is acceptable. "
   ]
  },
  {
   "cell_type": "code",
   "execution_count": 28,
   "metadata": {},
   "outputs": [
    {
     "data": {
      "text/html": [
       "<div>\n",
       "<style scoped>\n",
       "    .dataframe tbody tr th:only-of-type {\n",
       "        vertical-align: middle;\n",
       "    }\n",
       "\n",
       "    .dataframe tbody tr th {\n",
       "        vertical-align: top;\n",
       "    }\n",
       "\n",
       "    .dataframe thead th {\n",
       "        text-align: right;\n",
       "    }\n",
       "</style>\n",
       "<table border=\"1\" class=\"dataframe\">\n",
       "  <thead>\n",
       "    <tr style=\"text-align: right;\">\n",
       "      <th></th>\n",
       "      <th>coefficients</th>\n",
       "    </tr>\n",
       "  </thead>\n",
       "  <tbody>\n",
       "    <tr>\n",
       "      <th>gender_male</th>\n",
       "      <td>0.468580</td>\n",
       "    </tr>\n",
       "    <tr>\n",
       "      <th>age_group_30s</th>\n",
       "      <td>1.057119</td>\n",
       "    </tr>\n",
       "    <tr>\n",
       "      <th>age_group_40s</th>\n",
       "      <td>1.378633</td>\n",
       "    </tr>\n",
       "    <tr>\n",
       "      <th>age_group_50s</th>\n",
       "      <td>1.441261</td>\n",
       "    </tr>\n",
       "    <tr>\n",
       "      <th>age_group_60s_or_higher</th>\n",
       "      <td>0.850360</td>\n",
       "    </tr>\n",
       "    <tr>\n",
       "      <th>education_level_edu_associate</th>\n",
       "      <td>1.126758</td>\n",
       "    </tr>\n",
       "    <tr>\n",
       "      <th>education_level_edu_bachelor</th>\n",
       "      <td>1.500777</td>\n",
       "    </tr>\n",
       "    <tr>\n",
       "      <th>education_level_edu_master</th>\n",
       "      <td>2.008976</td>\n",
       "    </tr>\n",
       "    <tr>\n",
       "      <th>education_level_edu_doctorate</th>\n",
       "      <td>2.656743</td>\n",
       "    </tr>\n",
       "    <tr>\n",
       "      <th>marital_status_married</th>\n",
       "      <td>2.235065</td>\n",
       "    </tr>\n",
       "    <tr>\n",
       "      <th>marital_status_separated</th>\n",
       "      <td>-0.013286</td>\n",
       "    </tr>\n",
       "    <tr>\n",
       "      <th>marital_status_divorced</th>\n",
       "      <td>0.264305</td>\n",
       "    </tr>\n",
       "    <tr>\n",
       "      <th>marital_status_widowed</th>\n",
       "      <td>0.480868</td>\n",
       "    </tr>\n",
       "  </tbody>\n",
       "</table>\n",
       "</div>"
      ],
      "text/plain": [
       "                               coefficients\n",
       "gender_male                        0.468580\n",
       "age_group_30s                      1.057119\n",
       "age_group_40s                      1.378633\n",
       "age_group_50s                      1.441261\n",
       "age_group_60s_or_higher            0.850360\n",
       "education_level_edu_associate      1.126758\n",
       "education_level_edu_bachelor       1.500777\n",
       "education_level_edu_master         2.008976\n",
       "education_level_edu_doctorate      2.656743\n",
       "marital_status_married             2.235065\n",
       "marital_status_separated          -0.013286\n",
       "marital_status_divorced            0.264305\n",
       "marital_status_widowed             0.480868"
      ]
     },
     "execution_count": 28,
     "metadata": {},
     "output_type": "execute_result"
    }
   ],
   "source": [
    "# how the logistic regression model weighs each\n",
    "# column; the coefficients of the hidden columns are implied\n",
    "pd.DataFrame(data=lr_model.coef_.T, index=X.columns, columns=['coefficients'])"
   ]
  },
  {
   "cell_type": "markdown",
   "metadata": {},
   "source": [
    "Where some algorithms are difficult to look into in order to understand how decisions are made, regression is amenable. `gender_male` being less than 0.5 shows a bias towards females for donors. The increasing coefficients from `age_group_30s` up to `age_group_50s` gives us a reasonable notion that we're looking for a more \"mature\" person. Again, as education level gets higher, so does the weight coefficient as connected to salary/whether or not the person is a donor. Lastly, for relationship status, we see the married population stand out. "
   ]
  },
  {
   "cell_type": "markdown",
   "metadata": {},
   "source": [
    "### Testing"
   ]
  },
  {
   "cell_type": "markdown",
   "metadata": {},
   "source": [
    "Below, a similar process is repeated for the potential donor network dataset. The target variable `y` is separated for prediction. This holdout dataset will not be split, though, and is instead used in its entirety."
   ]
  },
  {
   "cell_type": "code",
   "execution_count": 29,
   "metadata": {},
   "outputs": [
    {
     "name": "stdout",
     "output_type": "stream",
     "text": [
      "Test set has 53503 samples.\n"
     ]
    }
   ],
   "source": [
    "# keep all potential donor network columns for \n",
    "# testing except target\n",
    "X_test = df2[['gender_male', 'age_group_30s', 'age_group_40s', \n",
    "              'age_group_50s', 'age_group_60s_or_higher',\n",
    "              'education_level_edu_associate', 'education_level_edu_bachelor',\n",
    "              'education_level_edu_master', 'education_level_edu_doctorate',\n",
    "              'marital_status_married', 'marital_status_separated',\n",
    "              'marital_status_divorced', 'marital_status_widowed']]\n",
    "\n",
    "# separate dependent target variable\n",
    "y_test = df2['salary_gt_50k']\n",
    "\n",
    "print(\"Test set has {} samples.\".format(X_test.shape[0]))"
   ]
  },
  {
   "cell_type": "markdown",
   "metadata": {},
   "source": [
    "A new logistic regression model is not trained here- instead, the previously fit model is given the unseen information blind and without any help. It must seek to adequately locate donors without any aid, based on the patterns it has previously seen."
   ]
  },
  {
   "cell_type": "code",
   "execution_count": 30,
   "metadata": {},
   "outputs": [],
   "source": [
    "# data is not split; all of it will be used for testing\n",
    "# use the previously fit model to predict on an unseen dataset\n",
    "test_results = lr_model.predict(X_test)"
   ]
  },
  {
   "cell_type": "code",
   "execution_count": 31,
   "metadata": {},
   "outputs": [
    {
     "name": "stdout",
     "output_type": "stream",
     "text": [
      "Test Accuracy: 47.61%\n",
      "Test Fbeta (0.5): 67.31%\n"
     ]
    }
   ],
   "source": [
    "# how many were correctly labeled\n",
    "print(f'Test Accuracy: {accuracy_score(y_test, test_results)*100:.2f}%')\n",
    "\n",
    "# fbeta balances the harmonic mean of precision and recall\n",
    "# a beta < 1 weighs precision more heavily; getting\n",
    "# true positives as correct as possible for potential donors\n",
    "print(f'Test Fbeta (0.5): {fbeta_score(y_test, test_results, beta=0.5)*100:.2f}%')"
   ]
  },
  {
   "cell_type": "markdown",
   "metadata": {},
   "source": [
    "As expected, our accuracy drops due to the variable imbalance previously espoused. To the delight of our charity, though, the fbeta score weighted toward precision and true positives actually increased. This is our key performance metric for this process, and the model shows its worth."
   ]
  },
  {
   "cell_type": "code",
   "execution_count": 32,
   "metadata": {
    "scrolled": true
   },
   "outputs": [
    {
     "data": {
      "image/png": "[encoded data removed]",
      "text/plain": [
       "<Figure size 432x288 with 2 Axes>"
      ]
     },
     "metadata": {
      "needs_background": "light"
     },
     "output_type": "display_data"
    }
   ],
   "source": [
    "# true negative, false positive\n",
    "# false negative, true positive\n",
    "test_cm = confusion_matrix(y_test, test_results)\n",
    "ConfusionMatrixDisplay(test_cm).plot();"
   ]
  },
  {
   "cell_type": "markdown",
   "metadata": {},
   "source": [
    "Decisions are made by the model based on a class weight threshold at the determination for labeling. After off-screen testing, this model was given `balanced` weights so that is favors neither class as being more or less important. This confusion matrix shows a drastic increase on false negatives, meaning that there are donors that the model was not confident enough of and marked them off the short-list. Again, this is to be expected given the imbalance in the existing donor network when compared to the overall composition of the potential donor network. The focus here is that, for those that the model thinks will donate, the majority (~75%) are likely to."
   ]
  },
  {
   "cell_type": "markdown",
   "metadata": {},
   "source": [
    "<a id='unsupervised'></a>\n",
    "## IV. Unsupervised Clustering Segmentation"
   ]
  },
  {
   "cell_type": "markdown",
   "metadata": {},
   "source": [
    "We can now transition to Principal Component Analysis and KMeans Clustering for our second model. Here, we're going to drop the majority of the existing donor network. What this means for our purposes is that we are retaining those that have a salary that is greater than $50,000/year, marking them out as those who are previous and/or current donors. The rest can be considered those who have churned as donors in the past and we were unable to retain them, or those who simply did not donate to our charity. This will give us a concentrated set of examples, from which we can pick out and _decompose_ the essential combinations of our feature variables that explain our data."
   ]
  },
  {
   "cell_type": "markdown",
   "metadata": {},
   "source": [
    "### Principal Component Analysis"
   ]
  },
  {
   "cell_type": "code",
   "execution_count": 33,
   "metadata": {},
   "outputs": [],
   "source": [
    "# create a copy of the refined existing donor dataset\n",
    "# where the income level is known to be greater than\n",
    "# $50,000/year representing the people in the network\n",
    "# that we know have donated before\n",
    "X_existing_donors = df1[df1['salary_gt_50k'] == 1].copy(deep=True)"
   ]
  },
  {
   "cell_type": "code",
   "execution_count": 34,
   "metadata": {},
   "outputs": [],
   "source": [
    "# drop the people representing those who have been\n",
    "# contacted previously and are considered known non-donors\n",
    "X_existing_donors.drop('salary_gt_50k', axis=1, inplace=True)"
   ]
  },
  {
   "cell_type": "code",
   "execution_count": 35,
   "metadata": {},
   "outputs": [],
   "source": [
    "# Principal Component Analysis decomposer\n",
    "pca = PCA()\n",
    "\n",
    "# fit the decomposer to the donor data\n",
    "X_pca = pca.fit_transform(X_existing_donors)"
   ]
  },
  {
   "cell_type": "code",
   "execution_count": 36,
   "metadata": {},
   "outputs": [
    {
     "data": {
      "text/html": [
       "<div>\n",
       "<style scoped>\n",
       "    .dataframe tbody tr th:only-of-type {\n",
       "        vertical-align: middle;\n",
       "    }\n",
       "\n",
       "    .dataframe tbody tr th {\n",
       "        vertical-align: top;\n",
       "    }\n",
       "\n",
       "    .dataframe thead th {\n",
       "        text-align: right;\n",
       "    }\n",
       "</style>\n",
       "<table border=\"1\" class=\"dataframe\">\n",
       "  <thead>\n",
       "    <tr style=\"text-align: right;\">\n",
       "      <th></th>\n",
       "      <th>percentage_of_data</th>\n",
       "    </tr>\n",
       "  </thead>\n",
       "  <tbody>\n",
       "    <tr>\n",
       "      <th>0</th>\n",
       "      <td>21.304086</td>\n",
       "    </tr>\n",
       "    <tr>\n",
       "      <th>1</th>\n",
       "      <td>16.767106</td>\n",
       "    </tr>\n",
       "    <tr>\n",
       "      <th>2</th>\n",
       "      <td>14.374458</td>\n",
       "    </tr>\n",
       "    <tr>\n",
       "      <th>3</th>\n",
       "      <td>12.772915</td>\n",
       "    </tr>\n",
       "    <tr>\n",
       "      <th>4</th>\n",
       "      <td>8.988635</td>\n",
       "    </tr>\n",
       "    <tr>\n",
       "      <th>5</th>\n",
       "      <td>7.266438</td>\n",
       "    </tr>\n",
       "    <tr>\n",
       "      <th>6</th>\n",
       "      <td>6.689557</td>\n",
       "    </tr>\n",
       "    <tr>\n",
       "      <th>7</th>\n",
       "      <td>5.177391</td>\n",
       "    </tr>\n",
       "    <tr>\n",
       "      <th>8</th>\n",
       "      <td>2.277832</td>\n",
       "    </tr>\n",
       "    <tr>\n",
       "      <th>9</th>\n",
       "      <td>2.168336</td>\n",
       "    </tr>\n",
       "    <tr>\n",
       "      <th>10</th>\n",
       "      <td>1.010751</td>\n",
       "    </tr>\n",
       "    <tr>\n",
       "      <th>11</th>\n",
       "      <td>0.714133</td>\n",
       "    </tr>\n",
       "    <tr>\n",
       "      <th>12</th>\n",
       "      <td>0.488362</td>\n",
       "    </tr>\n",
       "  </tbody>\n",
       "</table>\n",
       "</div>"
      ],
      "text/plain": [
       "    percentage_of_data\n",
       "0            21.304086\n",
       "1            16.767106\n",
       "2            14.374458\n",
       "3            12.772915\n",
       "4             8.988635\n",
       "5             7.266438\n",
       "6             6.689557\n",
       "7             5.177391\n",
       "8             2.277832\n",
       "9             2.168336\n",
       "10            1.010751\n",
       "11            0.714133\n",
       "12            0.488362"
      ]
     },
     "execution_count": 36,
     "metadata": {},
     "output_type": "execute_result"
    }
   ],
   "source": [
    "# how much data each of the principal components represents\n",
    "pd.DataFrame(pca.explained_variance_ratio_*100, columns=['percentage_of_data'])"
   ]
  },
  {
   "cell_type": "markdown",
   "metadata": {},
   "source": [
    "Without being passed an argument which defines a specific number of components, PCA will create a baseline that explains 100% of the data. The beauty of this tool is that it can be used to determine a sweet spot- meaning, how few principal components explain how much of the data? After the eighth component, explainability drops from 5% of the data to 2% per component, marking our cutoff point. We will be able to retain eight components to explain approximately 90% of the data."
   ]
  },
  {
   "cell_type": "code",
   "execution_count": 37,
   "metadata": {},
   "outputs": [],
   "source": [
    "# optimize the number of overall components\n",
    "pca = PCA(n_components=8)\n",
    "\n",
    "# retrain decomposer on new component size\n",
    "X_pca = pca.fit_transform(X)"
   ]
  },
  {
   "cell_type": "code",
   "execution_count": 38,
   "metadata": {},
   "outputs": [
    {
     "data": {
      "text/plain": [
       "0.898270953815741"
      ]
     },
     "execution_count": 38,
     "metadata": {},
     "output_type": "execute_result"
    }
   ],
   "source": [
    "# 90% of the data is represented in 8 components\n",
    "sum(pca.explained_variance_ratio_)"
   ]
  },
  {
   "cell_type": "code",
   "execution_count": 39,
   "metadata": {},
   "outputs": [
    {
     "data": {
      "text/html": [
       "<div>\n",
       "<style scoped>\n",
       "    .dataframe tbody tr th:only-of-type {\n",
       "        vertical-align: middle;\n",
       "    }\n",
       "\n",
       "    .dataframe tbody tr th {\n",
       "        vertical-align: top;\n",
       "    }\n",
       "\n",
       "    .dataframe thead th {\n",
       "        text-align: right;\n",
       "    }\n",
       "</style>\n",
       "<table border=\"1\" class=\"dataframe\">\n",
       "  <thead>\n",
       "    <tr style=\"text-align: right;\">\n",
       "      <th></th>\n",
       "      <th>pca_coefficients</th>\n",
       "    </tr>\n",
       "  </thead>\n",
       "  <tbody>\n",
       "    <tr>\n",
       "      <th>gender_male</th>\n",
       "      <td>-0.595358</td>\n",
       "    </tr>\n",
       "    <tr>\n",
       "      <th>age_group_30s</th>\n",
       "      <td>-0.022696</td>\n",
       "    </tr>\n",
       "    <tr>\n",
       "      <th>age_group_40s</th>\n",
       "      <td>-0.065520</td>\n",
       "    </tr>\n",
       "    <tr>\n",
       "      <th>age_group_50s</th>\n",
       "      <td>-0.062232</td>\n",
       "    </tr>\n",
       "    <tr>\n",
       "      <th>age_group_60s_or_higher</th>\n",
       "      <td>-0.017053</td>\n",
       "    </tr>\n",
       "    <tr>\n",
       "      <th>education_level_edu_associate</th>\n",
       "      <td>-0.010662</td>\n",
       "    </tr>\n",
       "    <tr>\n",
       "      <th>education_level_edu_bachelor</th>\n",
       "      <td>-0.042872</td>\n",
       "    </tr>\n",
       "    <tr>\n",
       "      <th>education_level_edu_master</th>\n",
       "      <td>-0.015695</td>\n",
       "    </tr>\n",
       "    <tr>\n",
       "      <th>education_level_edu_doctorate</th>\n",
       "      <td>-0.009544</td>\n",
       "    </tr>\n",
       "    <tr>\n",
       "      <th>marital_status_married</th>\n",
       "      <td>-0.731178</td>\n",
       "    </tr>\n",
       "    <tr>\n",
       "      <th>marital_status_separated</th>\n",
       "      <td>0.048771</td>\n",
       "    </tr>\n",
       "    <tr>\n",
       "      <th>marital_status_divorced</th>\n",
       "      <td>0.306909</td>\n",
       "    </tr>\n",
       "    <tr>\n",
       "      <th>marital_status_widowed</th>\n",
       "      <td>0.055638</td>\n",
       "    </tr>\n",
       "  </tbody>\n",
       "</table>\n",
       "</div>"
      ],
      "text/plain": [
       "                               pca_coefficients\n",
       "gender_male                           -0.595358\n",
       "age_group_30s                         -0.022696\n",
       "age_group_40s                         -0.065520\n",
       "age_group_50s                         -0.062232\n",
       "age_group_60s_or_higher               -0.017053\n",
       "education_level_edu_associate         -0.010662\n",
       "education_level_edu_bachelor          -0.042872\n",
       "education_level_edu_master            -0.015695\n",
       "education_level_edu_doctorate         -0.009544\n",
       "marital_status_married                -0.731178\n",
       "marital_status_separated               0.048771\n",
       "marital_status_divorced                0.306909\n",
       "marital_status_widowed                 0.055638"
      ]
     },
     "execution_count": 39,
     "metadata": {},
     "output_type": "execute_result"
    }
   ],
   "source": [
    "# show the column weights for the top component representing 21% of the data\n",
    "pd.DataFrame(data=pca.components_[0], index=X.columns, columns=['pca_coefficients'])"
   ]
  },
  {
   "cell_type": "markdown",
   "metadata": {},
   "source": [
    "Here is an example of what the principal component coefficients look like. This specific example references the top component, explaining about 21% of the variation in the data. They look similar to the Logistic Regression model's coefficients, and can be interpreted at the most basic level as weights associated with each feature."
   ]
  },
  {
   "cell_type": "markdown",
   "metadata": {},
   "source": [
    "### KMeans Clustering Fitting Existing Donor Network"
   ]
  },
  {
   "cell_type": "markdown",
   "metadata": {},
   "source": [
    "Using the decomposition above, the KMeans clustering model will be selected. This algorithm will group the data using randomly generated centroids and try to find data points that are closely related to one another. In order to find the \"right\" number of centroids to move forward with, several KMeans models will be generated ranging from 2 to 11 clusters. This clustering segmentation can be thought of as discovering and delineating different \"kinds\" of donors that have similar demographics to each other."
   ]
  },
  {
   "cell_type": "code",
   "execution_count": 40,
   "metadata": {},
   "outputs": [],
   "source": [
    "# helper code from Udacity Clustering course\n",
    "def score_clusters(start, stop, step, data):\n",
    "    ''' Generate a span of KMeans models to \n",
    "        evaluate the best score based on the pca\n",
    "    '''\n",
    "    # track scores\n",
    "    scores = []\n",
    "    # over a number of different cluster counts\n",
    "    centers = list(range(start, stop, step))\n",
    "    \n",
    "    # run k-means clustering on the data for each n_cluster value\n",
    "    for center in centers:\n",
    "        # create a KMeans model\n",
    "        kmeans = KMeans(n_clusters=center)\n",
    "        # train on the principal components\n",
    "        model = kmeans.fit(data)\n",
    "        # compute the average within-cluster distances\n",
    "        score = np.abs(model.score(data))\n",
    "        # add it to the tracker\n",
    "        scores.append(score)\n",
    "        \n",
    "        # show progress\n",
    "        print('Clusters: {}, Score: {}'.format(center, score))\n",
    "        \n",
    "        \n",
    "    return centers, scores"
   ]
  },
  {
   "cell_type": "code",
   "execution_count": 41,
   "metadata": {},
   "outputs": [],
   "source": [
    "# this function has been commented out to reduce re-run time\n",
    "# it shows kmeans models with 2-11 clusters and their relative\n",
    "# scores as they are instantiated for evaluation\n",
    "#centers, scores = score_clusters(2, 12, 1, X_train)"
   ]
  },
  {
   "cell_type": "code",
   "execution_count": 42,
   "metadata": {},
   "outputs": [],
   "source": [
    "# number of centroid clusters per model\n",
    "centers = list(range(2, 12, 1))\n",
    "\n",
    "# manually compile cluster scores from previously\n",
    "# commented out long-running function\n",
    "scores = [38599, 34384, 30533, 27919, 26080,\n",
    "          23991, 21438, 19930, 19501, 18502]"
   ]
  },
  {
   "cell_type": "code",
   "execution_count": 43,
   "metadata": {},
   "outputs": [
    {
     "data": {
      "image/png": "[encoded data removed]",
      "text/plain": [
       "<Figure size 432x288 with 1 Axes>"
      ]
     },
     "metadata": {
      "needs_background": "light"
     },
     "output_type": "display_data"
    }
   ],
   "source": [
    "# helper code from Udacity Clustering course\n",
    "# generate a line plot for each center, score pair\n",
    "plt.plot(centers, scores, linestyle='--', marker='o', color='b');\n",
    "plt.title('Sum of the Squared Error per K Clusters');\n",
    "plt.xlabel('K');\n",
    "plt.ylabel('SSE');"
   ]
  },
  {
   "cell_type": "markdown",
   "metadata": {},
   "source": [
    "Just like the PCA split, choosing the number of centroids is a bit of an art and depends on the data. Here, the elbow method was chosen in combination with numerical analysis. What that means is, at the point where there stops being such a significant drop in the sum of squared error (based on the decline of the line and the decrease in the absolute number), we stop. Here, 5 centroid clusters was selected as the model to move forward with."
   ]
  },
  {
   "cell_type": "code",
   "execution_count": 44,
   "metadata": {},
   "outputs": [
    {
     "data": {
      "text/plain": [
       "KMeans(n_clusters=5, random_state=0)"
      ]
     },
     "execution_count": 44,
     "metadata": {},
     "output_type": "execute_result"
    }
   ],
   "source": [
    "# instantiate KMeans model; elbow method was used \n",
    "# to pick the most impactful centroid count; \n",
    "kmeans_model = KMeans(n_clusters=5, random_state=0)\n",
    "\n",
    "# fit the model to the decomposed data\n",
    "kmeans_model.fit(X_pca)"
   ]
  },
  {
   "cell_type": "code",
   "execution_count": 45,
   "metadata": {},
   "outputs": [
    {
     "name": "stdout",
     "output_type": "stream",
     "text": [
      "Clusters: 5, Score: 27905.56702589206\n"
     ]
    }
   ],
   "source": [
    "# score the final model and show the cluster size\n",
    "kmeans_score = np.abs(kmeans_model.score(X_pca))\n",
    "print('Clusters: {}, Score: {}'.format(5, kmeans_score))"
   ]
  },
  {
   "cell_type": "code",
   "execution_count": 46,
   "metadata": {},
   "outputs": [],
   "source": [
    "# save the cluster label predictions for the\n",
    "# decomposed data for segmentation analysis\n",
    "kmeans_labels = kmeans_model.predict(X_pca)"
   ]
  },
  {
   "cell_type": "markdown",
   "metadata": {},
   "source": [
    "Above, the fit KMeans Clustering model is used to predict labels for the existing donor network and these labels are saved for later."
   ]
  },
  {
   "cell_type": "markdown",
   "metadata": {},
   "source": [
    "### KMeans Clustering Labeling Potential Donor Network"
   ]
  },
  {
   "cell_type": "markdown",
   "metadata": {},
   "source": [
    "It is important that, at this stage where we're going to assess the potential donor network, a new PCA decomposer is not fit. The previous one, exposed to the existing donor network dataset and retained, is used to break down the unseen data."
   ]
  },
  {
   "cell_type": "code",
   "execution_count": 47,
   "metadata": {},
   "outputs": [],
   "source": [
    "# use the previously constructed decomposer\n",
    "# to break down and analyze the \n",
    "# potential donor network dataset\n",
    "X_potential_pca = pca.transform(X_test)"
   ]
  },
  {
   "cell_type": "markdown",
   "metadata": {},
   "source": [
    "In likewise fashion, it is the previously fit KMeans model that is used to make predictions on the unseen data. The idea is that different groups of donors have been found in those known to be donors, and we're looking for people we've never seen before who \"look like\" our highest contributing cluster based on their demographics."
   ]
  },
  {
   "cell_type": "code",
   "execution_count": 48,
   "metadata": {},
   "outputs": [],
   "source": [
    "# use the previously constructed kmeans clustering\n",
    "# model to make label predictions on the newly\n",
    "# decomposed data\n",
    "kmeans_potential_labels = kmeans_model.predict(X_potential_pca)"
   ]
  },
  {
   "cell_type": "code",
   "execution_count": 49,
   "metadata": {},
   "outputs": [],
   "source": [
    "# move the existing and potential donor network \n",
    "# labels to pandas dataframe objects for assessment\n",
    "existing_labels_df = pd.DataFrame(kmeans_labels)\n",
    "potential_labels_df = pd.DataFrame(kmeans_potential_labels)"
   ]
  },
  {
   "cell_type": "code",
   "execution_count": 50,
   "metadata": {},
   "outputs": [
    {
     "name": "stdout",
     "output_type": "stream",
     "text": [
      "Existing Donor Network and Potential Donor Network\n",
      "Existing: 39,240     Potential: 53,503\n"
     ]
    },
    {
     "data": {
      "text/html": [
       "<div>\n",
       "<style scoped>\n",
       "    .dataframe tbody tr th:only-of-type {\n",
       "        vertical-align: middle;\n",
       "    }\n",
       "\n",
       "    .dataframe tbody tr th {\n",
       "        vertical-align: top;\n",
       "    }\n",
       "\n",
       "    .dataframe thead th {\n",
       "        text-align: right;\n",
       "    }\n",
       "</style>\n",
       "<table border=\"1\" class=\"dataframe\">\n",
       "  <thead>\n",
       "    <tr style=\"text-align: right;\">\n",
       "      <th></th>\n",
       "      <th>K Clusters</th>\n",
       "      <th>Existing Counts</th>\n",
       "      <th>Existing Percentages</th>\n",
       "      <th>Potential Counts</th>\n",
       "      <th>Potential Percentages</th>\n",
       "      <th>Difference</th>\n",
       "      <th>Percentage Ratio</th>\n",
       "    </tr>\n",
       "  </thead>\n",
       "  <tbody>\n",
       "    <tr>\n",
       "      <th>0</th>\n",
       "      <td>1</td>\n",
       "      <td>5433</td>\n",
       "      <td>13.85</td>\n",
       "      <td>2574</td>\n",
       "      <td>4.81</td>\n",
       "      <td>9.04</td>\n",
       "      <td>0.35</td>\n",
       "    </tr>\n",
       "    <tr>\n",
       "      <th>1</th>\n",
       "      <td>2</td>\n",
       "      <td>9859</td>\n",
       "      <td>25.12</td>\n",
       "      <td>20690</td>\n",
       "      <td>38.67</td>\n",
       "      <td>-13.55</td>\n",
       "      <td>1.54</td>\n",
       "    </tr>\n",
       "    <tr>\n",
       "      <th>2</th>\n",
       "      <td>3</td>\n",
       "      <td>5492</td>\n",
       "      <td>14.00</td>\n",
       "      <td>3053</td>\n",
       "      <td>5.71</td>\n",
       "      <td>8.29</td>\n",
       "      <td>0.41</td>\n",
       "    </tr>\n",
       "    <tr>\n",
       "      <th>3</th>\n",
       "      <td>4</td>\n",
       "      <td>7237</td>\n",
       "      <td>18.44</td>\n",
       "      <td>6478</td>\n",
       "      <td>12.11</td>\n",
       "      <td>6.33</td>\n",
       "      <td>0.66</td>\n",
       "    </tr>\n",
       "    <tr>\n",
       "      <th>4</th>\n",
       "      <td>5</td>\n",
       "      <td>11219</td>\n",
       "      <td>28.59</td>\n",
       "      <td>20708</td>\n",
       "      <td>38.70</td>\n",
       "      <td>-10.11</td>\n",
       "      <td>1.35</td>\n",
       "    </tr>\n",
       "  </tbody>\n",
       "</table>\n",
       "</div>"
      ],
      "text/plain": [
       "   K Clusters  Existing Counts  Existing Percentages  Potential Counts  \\\n",
       "0           1             5433                 13.85              2574   \n",
       "1           2             9859                 25.12             20690   \n",
       "2           3             5492                 14.00              3053   \n",
       "3           4             7237                 18.44              6478   \n",
       "4           5            11219                 28.59             20708   \n",
       "\n",
       "   Potential Percentages  Difference  Percentage Ratio  \n",
       "0                   4.81        9.04              0.35  \n",
       "1                  38.67      -13.55              1.54  \n",
       "2                   5.71        8.29              0.41  \n",
       "3                  12.11        6.33              0.66  \n",
       "4                  38.70      -10.11              1.35  "
      ]
     },
     "execution_count": 50,
     "metadata": {},
     "output_type": "execute_result"
    }
   ],
   "source": [
    "# new, empty dataframe\n",
    "comparison = pd.DataFrame()\n",
    "\n",
    "# centroid numbers (1-5)\n",
    "K = list(range(1, 6))\n",
    "\n",
    "# raw count of centroid identity for existing donors\n",
    "existing_counts = existing_labels_df[0].value_counts(sort=False)\n",
    "existing_percentages = []\n",
    "\n",
    "# raw count of centroid identity for potential donors\n",
    "potential_counts = potential_labels_df[0].value_counts(sort=False)\n",
    "potential_percentages = []\n",
    "difference = []\n",
    "percentage_ratio = []\n",
    "\n",
    "# calculate key comparison metrics and compile in lists\n",
    "for i in range(len(existing_counts)):\n",
    "    existing_percentages.append(round((existing_counts[i]/existing_labels_df.shape[0])*100, 2))\n",
    "    potential_percentages.append(round((potential_counts[i]/potential_labels_df.shape[0])*100, 2))\n",
    "    difference.append(np.subtract(existing_percentages[i], potential_percentages[i]))\n",
    "    percentage_ratio.append(round(np.divide(potential_percentages[i], existing_percentages[i]), 2))\n",
    "\n",
    "# load metric lists to empty dataframe for analysis below\n",
    "comparison['K Clusters'] = K\n",
    "comparison['Existing Counts'] = existing_counts\n",
    "comparison['Existing Percentages'] = existing_percentages\n",
    "comparison['Potential Counts'] = potential_counts\n",
    "comparison['Potential Percentages'] = potential_percentages\n",
    "comparison['Difference'] = difference\n",
    "comparison['Percentage Ratio'] = percentage_ratio\n",
    "\n",
    "print('Existing Donor Network and Potential Donor Network')\n",
    "print('Existing: {:,}     Potential: {:,}'.format(existing_labels_df.shape[0], \n",
    "                                                  potential_labels_df.shape[0]))\n",
    "comparison"
   ]
  },
  {
   "cell_type": "code",
   "execution_count": 51,
   "metadata": {},
   "outputs": [
    {
     "data": {
      "image/png": "[encoded data removed]",
      "text/plain": [
       "<Figure size 720x360 with 2 Axes>"
      ]
     },
     "metadata": {
      "needs_background": "light"
     },
     "output_type": "display_data"
    }
   ],
   "source": [
    "# plot the above comparison dataframe\n",
    "# make the combined plots span the width of the notebook\n",
    "plt.figure(figsize=(10,5))\n",
    "\n",
    "# first plot (one row, two columns, first index)\n",
    "ax1 = plt.subplot(1, 2, 1)\n",
    "# clusters against value_counts for existing donor network data\n",
    "ax1.set_title('Existing Donors Cluster Distribution')\n",
    "ax1.set_ylim(0, 44)\n",
    "ax1.set_yticks(range(0, 45, 2))\n",
    "# view the distribution\n",
    "sb.barplot(x=comparison['K Clusters'], y=comparison['Existing Percentages'], palette='pastel', ax=ax1)\n",
    "\n",
    "# second plot (one row, two columns, second index)\n",
    "ax2 = plt.subplot(1, 2, 2)\n",
    "# clusters against value_counts for potential donor network data\n",
    "ax2.set_title('Potential Donors Cluster Distribution')\n",
    "ax2.set_ylim(0, 44)\n",
    "ax2.set_yticks(range(0, 45, 2))\n",
    "# view the distribution\n",
    "sb.barplot(x=comparison['K Clusters'], y=comparison['Potential Percentages'], palette='pastel', ax=ax2)\n",
    "\n",
    "# make sure both plots are visible without any runover of their information\n",
    "plt.tight_layout()\n",
    "# show both plots togethered without any extra chart junk\n",
    "plt.show();"
   ]
  },
  {
   "cell_type": "markdown",
   "metadata": {},
   "source": [
    "We have found, in both the numerical table and the two graphs above, that there are in fact specific groups of donors in the existing donor network cluster distribution. Specifically, we're going to take a closer look at cluster five as the top contributors, and cluster one as the bottom contributors.\n",
    "\n",
    "Notice how there is a large portion of the potential donors that is considered a part of cluster five. That's great! That means there is a significant pool of people that are very similar to the people we know are strong supporters of our charity. \n",
    "\n",
    "To draw clarity to this, we can see the opposite effect by looking at cluster one. This is the smallest percentage of our donors, and it also makes up the tiniest fraction of the potential donors. These are very clear signs that we should not spend our time and energy contacting these people given the urgency of the situation we find ourselves in, as we are nearing an important deadline at the end of the fiscal year and the probability that there will be a return on that investment is low when compared to other prospects."
   ]
  },
  {
   "cell_type": "code",
   "execution_count": 52,
   "metadata": {
    "scrolled": true
   },
   "outputs": [
    {
     "data": {
      "text/plain": [
       "gender_male                         0.0\n",
       "age_group_30s                    2581.0\n",
       "age_group_40s                    2229.0\n",
       "age_group_50s                    1295.0\n",
       "age_group_60s_or_higher           898.0\n",
       "education_level_edu_associate    1142.0\n",
       "education_level_edu_bachelor     1689.0\n",
       "education_level_edu_master        609.0\n",
       "education_level_edu_doctorate      82.0\n",
       "marital_status_married            497.0\n",
       "marital_status_separated          837.0\n",
       "marital_status_divorced          3498.0\n",
       "marital_status_widowed           1021.0\n",
       "Name: True, dtype: float64"
      ]
     },
     "execution_count": 52,
     "metadata": {},
     "output_type": "execute_result"
    }
   ],
   "source": [
    "# existing donor network\n",
    "# total count per column for the top cluster; it is the\n",
    "# sum of those present as True/1 for the column, where\n",
    "# a lower count for a grouping implies the baseline category\n",
    "X.groupby(kmeans_labels == 4).sum().loc[True]"
   ]
  },
  {
   "cell_type": "markdown",
   "metadata": {},
   "source": [
    "Immediately above is a breakdown of counts for people in the existing donor network dataset that have been labeled as a part of our top contributing cluster, cluster number five. They are decidedly female, according to our binary gender feature. There is a good spread across age, but thirties seems to be the age group that stands out. Education is present, centered around the Bachelor degree. The number of divorcees that are present is striking. According to the clustering algorithm, our best contributors are those that have been recorded as female, in there thirties, who are divorced. There is definitely some breadth to this cluster, though."
   ]
  },
  {
   "cell_type": "code",
   "execution_count": 53,
   "metadata": {},
   "outputs": [
    {
     "data": {
      "text/plain": [
       "gender_male                      4790.0\n",
       "age_group_30s                       0.0\n",
       "age_group_40s                    5433.0\n",
       "age_group_50s                       0.0\n",
       "age_group_60s_or_higher             0.0\n",
       "education_level_edu_associate     692.0\n",
       "education_level_edu_bachelor     1241.0\n",
       "education_level_edu_master        489.0\n",
       "education_level_edu_doctorate     125.0\n",
       "marital_status_married           5305.0\n",
       "marital_status_separated            0.0\n",
       "marital_status_divorced             0.0\n",
       "marital_status_widowed              0.0\n",
       "Name: True, dtype: float64"
      ]
     },
     "execution_count": 53,
     "metadata": {},
     "output_type": "execute_result"
    }
   ],
   "source": [
    "# existing donor network; bottom cluster\n",
    "X.groupby(kmeans_labels == 0).sum().loc[True]"
   ]
  },
  {
   "cell_type": "markdown",
   "metadata": {},
   "source": [
    "Immediately above is the complement; a breakdown of counts for people in the existing donor network dataset that have been labeled as part of our bottom contributing cluster, cluster number one. The sheer number of males is significant. It is composed primarily of those in their fourties. Many of them are married. It will be important to de-prioritize contacting married men in their forties for our immediate outreach efforts, as this cluster is fairly decisive."
   ]
  },
  {
   "cell_type": "markdown",
   "metadata": {},
   "source": [
    "<a id='intersecting'></a>\n",
    "## V. Intersecting Prediction & Segmentation"
   ]
  },
  {
   "cell_type": "code",
   "execution_count": 54,
   "metadata": {},
   "outputs": [
    {
     "data": {
      "text/plain": [
       "5642"
      ]
     },
     "execution_count": 54,
     "metadata": {},
     "output_type": "execute_result"
    }
   ],
   "source": [
    "# actual count\n",
    "df2.query('@test_results == 1 and @kmeans_potential_labels == 4').shape[0]"
   ]
  },
  {
   "cell_type": "code",
   "execution_count": 55,
   "metadata": {},
   "outputs": [
    {
     "data": {
      "text/plain": [
       "gender_male                         0\n",
       "salary_gt_50k                    4254\n",
       "age_group_30s                    1296\n",
       "age_group_40s                    1162\n",
       "age_group_50s                    1394\n",
       "age_group_60s_or_higher          1062\n",
       "education_level_edu_associate       0\n",
       "education_level_edu_bachelor      211\n",
       "education_level_edu_master       1369\n",
       "education_level_edu_doctorate    4062\n",
       "marital_status_married            728\n",
       "marital_status_separated         1081\n",
       "marital_status_divorced          1676\n",
       "marital_status_widowed           1219\n",
       "dtype: int64"
      ]
     },
     "execution_count": 55,
     "metadata": {},
     "output_type": "execute_result"
    }
   ],
   "source": [
    "# potential donor networking ensemble analysis\n",
    "# intersection between top cluster and predicted as donor based on salary\n",
    "df2.query('@test_results == 1 and @kmeans_potential_labels == 4').sum()"
   ]
  },
  {
   "cell_type": "markdown",
   "metadata": {},
   "source": [
    "The KMeans Clustering algorithm was not exposed to the `salary_gt_50k` target variable, but it has been included here as a point of reference. Out of 5642 potential donors that have been labeled as both a donor by the Logistic Regression model and as in the top contributing cluster (cluster five) by the KMeans Clustering algorithm, 4254 are actually marked as our target of having a salary greater than $50,000/year. This aligns and reinforces our previous confidence in the predictive modeling returning with a precision of approximately 75%."
   ]
  },
  {
   "cell_type": "code",
   "execution_count": 56,
   "metadata": {},
   "outputs": [
    {
     "data": {
      "text/plain": [
       "gender_male                      156\n",
       "salary_gt_50k                    111\n",
       "age_group_30s                      0\n",
       "age_group_40s                    156\n",
       "age_group_50s                      0\n",
       "age_group_60s_or_higher            0\n",
       "education_level_edu_associate      0\n",
       "education_level_edu_bachelor     156\n",
       "education_level_edu_master         0\n",
       "education_level_edu_doctorate      0\n",
       "marital_status_married             0\n",
       "marital_status_separated           0\n",
       "marital_status_divorced            0\n",
       "marital_status_widowed             0\n",
       "dtype: int64"
      ]
     },
     "execution_count": 56,
     "metadata": {},
     "output_type": "execute_result"
    }
   ],
   "source": [
    "# intersection between bottom cluster and predicted as non-donor based on salary\n",
    "df2.query('@test_results == 0 and @kmeans_potential_labels == 0').sum()"
   ]
  },
  {
   "cell_type": "markdown",
   "metadata": {},
   "source": [
    "Out of curiousity, who should we not contact for donations? According to those predicted to be a non-donor and labeled as a bottom contributor, it would be those who are male, in their forties, with a Bachelor's degree. This aligns fairly well with our previous insight. Perhaps our cause isn't necessarily relavent to their lives at this moment, and they would be better off left to themselves for the purposes of donor acquisition for our charity at this time."
   ]
  },
  {
   "cell_type": "markdown",
   "metadata": {},
   "source": [
    "### Final Deliverable"
   ]
  },
  {
   "cell_type": "markdown",
   "metadata": {},
   "source": [
    "An essential contact list of high potential donors will be the most helpful insight that our team can access at this time. This short-list of identification numbers for who can be reached out to for help and support can be broken down per team member and distributed accordingly, ensuring that everyone is able to focus on them as the highest priority."
   ]
  },
  {
   "cell_type": "code",
   "execution_count": 57,
   "metadata": {
    "scrolled": true
   },
   "outputs": [],
   "source": [
    "# list of those who were predicted to be a donor based on salary\n",
    "# and those who were in the top cluster\n",
    "contact_list = original_potential_donors.query('@test_results == 1 and \\\n",
    "                                 @kmeans_potential_labels == 4')['Customer ID']"
   ]
  },
  {
   "cell_type": "code",
   "execution_count": 58,
   "metadata": {},
   "outputs": [
    {
     "data": {
      "text/html": [
       "<div>\n",
       "<style scoped>\n",
       "    .dataframe tbody tr th:only-of-type {\n",
       "        vertical-align: middle;\n",
       "    }\n",
       "\n",
       "    .dataframe tbody tr th {\n",
       "        vertical-align: top;\n",
       "    }\n",
       "\n",
       "    .dataframe thead th {\n",
       "        text-align: right;\n",
       "    }\n",
       "</style>\n",
       "<table border=\"1\" class=\"dataframe\">\n",
       "  <thead>\n",
       "    <tr style=\"text-align: right;\">\n",
       "      <th></th>\n",
       "      <th>Customer ID</th>\n",
       "    </tr>\n",
       "  </thead>\n",
       "  <tbody>\n",
       "    <tr>\n",
       "      <th>8</th>\n",
       "      <td>30476</td>\n",
       "    </tr>\n",
       "    <tr>\n",
       "      <th>25</th>\n",
       "      <td>62346</td>\n",
       "    </tr>\n",
       "    <tr>\n",
       "      <th>31</th>\n",
       "      <td>82780</td>\n",
       "    </tr>\n",
       "    <tr>\n",
       "      <th>36</th>\n",
       "      <td>70594</td>\n",
       "    </tr>\n",
       "    <tr>\n",
       "      <th>37</th>\n",
       "      <td>32721</td>\n",
       "    </tr>\n",
       "  </tbody>\n",
       "</table>\n",
       "</div>"
      ],
      "text/plain": [
       "    Customer ID\n",
       "8         30476\n",
       "25        62346\n",
       "31        82780\n",
       "36        70594\n",
       "37        32721"
      ]
     },
     "execution_count": 58,
     "metadata": {},
     "output_type": "execute_result"
    }
   ],
   "source": [
    "# new dataframe based on previous slicing\n",
    "contact_list = pd.DataFrame(data=contact_list)\n",
    "contact_list.head()"
   ]
  },
  {
   "cell_type": "code",
   "execution_count": 59,
   "metadata": {},
   "outputs": [
    {
     "name": "stdout",
     "output_type": "stream",
     "text": [
      "Contact list is the top 10.55% potential donors\n",
      "Number of contacts: 5642\n"
     ]
    }
   ],
   "source": [
    "# filtered and concentrated potential donor network\n",
    "print(f'Contact list is the top {(contact_list.shape[0] / df2.shape[0])*100:.2f}% potential donors')\n",
    "print(f'Number of contacts: {contact_list.shape[0]}')"
   ]
  },
  {
   "cell_type": "code",
   "execution_count": 60,
   "metadata": {},
   "outputs": [],
   "source": [
    "# move to external csv file for transfer of short-list\n",
    "contact_list.to_csv('contact_list.csv', index=False)"
   ]
  },
  {
   "cell_type": "markdown",
   "metadata": {},
   "source": [
    "Those that we _know_ are non-donors from the actual target variables of the testing dataset are included in this list, because in reality the short-list would not actually know the end-state of the potential donors. This is information that the KMeans clustering algorithm did not and would not actually have access to, and during real-world inference we would not have that information either."
   ]
  },
  {
   "cell_type": "markdown",
   "metadata": {},
   "source": [
    "<a id='final'></a>\n",
    "## VI. Final Thoughts"
   ]
  },
  {
   "cell_type": "markdown",
   "metadata": {},
   "source": [
    "Our charity is nearing dissolution. The good news is that we have a large pool of potential donors to contact. At the beginning of our project there were too many to simply brute force our way through. Picking them seemingly at random definitely had a high chance of failure.\n",
    "\n",
    "There are in fact some potential donors who are more likely to donate than not, and they can be recognized with a strong confidence. Even given limited information and time, now our charity has a short-list of contacts that represent the most likely donor candidates that has been cross-verified using an ensemble of both supervised and unsupervised learning.\n",
    "\n",
    "This project showcases the serious capability of machine learning technologies specifically and data science methodologies in general to gain meaningful insight into otherwise complicated and terse data. It stands to show that with the proper tools, organizations are able to extract critical directives for future projects and initiatives. It represents the importance of privacy- how data is collected, stored, transmitted, and communicated. It also represents the importance of ethics- how data is used, what the purpose is, and how transparent the information gathering and implementation is in terms of the purpose it will be used for. It further represents the importance of safety- how will the actors involved, the states that the actors are in, and the geo-political environments therewith be affected by the implicit bias in the developers, the data used, the incentives given, the collection terms and methods, and the use cases that the insights gleamed are applied to. This technology has implications across these and many more sensitive subjects and deserves further study."
   ]
  },
  {
   "cell_type": "markdown",
   "metadata": {},
   "source": [
    "<a id='sources'></a>\n",
    "## VII. Sources"
   ]
  },
  {
   "cell_type": "markdown",
   "metadata": {},
   "source": [
    "This project originated from and was inspired by Udacity's [Introduction to Machine Learning with PyTorch](https://www.udacity.com/course/intro-to-machine-learning-nanodegree--nd229) Nanodegree. Within each certificate program, theory is demonstrated through conceptual explanations in written language, programmatic exercises to implement said concepts in code, pseudo-code interpretations bridging spoken human language and algorithms, and pure mathematical notation. Skills and abilities are exemplified in projects that are submitted and graded against an established rubric.\n",
    "\n",
    "The existing donor network dataset was sourced from the same Udacity Nanodegree. It is a processed version of a dataset from the [UCI Machine Learning Repostory](https://archive.ics.uci.edu/ml/datasets/Census+Income). \n",
    "\n",
    "The potential donor network dataset was sourced from [Kaggle](https://www.kaggle.com/datasets/ravalsmit/customer-segmentation-data?resource=download)\n",
    "\n",
    "Innumerable references were made to Google's large language model that is embedded in their search engine, [Gemini](https://blog.google/products/search/generative-ai-google-search-may-2024/), to confirm syntax and to see implementation examples of random code snippets.\n",
    "\n",
    "Endless combing through documentation was done to explore parameter defaults and confirm code implementation: [pandas](https://pandas.pydata.org/docs/user_guide/index.html), [scikit-learn](https://scikit-learn.org/stable/user_guide.html)"
   ]
  },
  {
   "cell_type": "code",
   "execution_count": null,
   "metadata": {},
   "outputs": [],
   "source": []
  }
 ],
 "metadata": {
  "kernelspec": {
   "display_name": "Python 3 (ipykernel)",
   "language": "python",
   "name": "python3"
  },
  "language_info": {
   "codemirror_mode": {
    "name": "ipython",
    "version": 3
   },
   "file_extension": ".py",
   "mimetype": "text/x-python",
   "name": "python",
   "nbconvert_exporter": "python",
   "pygments_lexer": "ipython3",
   "version": "3.10.13"
  }
 },
 "nbformat": 4,
 "nbformat_minor": 2
}
